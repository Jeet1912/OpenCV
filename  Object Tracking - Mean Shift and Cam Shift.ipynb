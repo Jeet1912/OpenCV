{
 "cells": [
  {
   "cell_type": "code",
   "execution_count": 2,
   "id": "b06ba71f",
   "metadata": {},
   "outputs": [],
   "source": [
    "import cv2 as cv\n",
    "import numpy as np\n",
    "#import matplotlib.pyplot as plt"
   ]
  },
  {
   "cell_type": "markdown",
   "id": "56dc35f4",
   "metadata": {},
   "source": [
    "## Mean Shift"
   ]
  },
  {
   "cell_type": "code",
   "execution_count": 7,
   "id": "917e70e3",
   "metadata": {},
   "outputs": [],
   "source": [
    "cap = cv.VideoCapture('/Users/jxxt/Desktop/Random/CV/moving_Traffic.mp4')\n",
    "\n",
    "ret, frame = cap.read()\n",
    "x, y, width, height = 2100,1300,300,200\n",
    "trackingWin = (x,y,width,height)\n",
    "region_of_int = frame[y:y+height,x:x+width]\n",
    "hsv_roi = cv.cvtColor(region_of_int,cv.COLOR_BGR2HSV)\n",
    "mask = cv.inRange(hsv_roi,np.array((0.,60.,32.)),np.array((180.,255.,255.)))\n",
    "roi_hist = cv.calcHist([hsv_roi],[0],mask,[180],[0,180])\n",
    "cv.normalize(roi_hist,roi_hist,0,255,cv.NORM_MINMAX)\n",
    "\n",
    "termination_Cri = (cv.TERM_CRITERIA_EPS | cv.TermCriteria_COUNT, 10, 1)\n",
    "\n",
    "while True:\n",
    "    ret, frame = cap.read()\n",
    "    if ret:\n",
    "        hsv = cv.cvtColor(frame,cv.COLOR_BGR2HSV)\n",
    "        dst = cv.calcBackProject([hsv],[0],roi_hist,[0,180],1)\n",
    "        ret, trackingWin = cv.meanShift(dst,trackingWin, termination_Cri)\n",
    "        \n",
    "        x,y,w,h = trackingWin\n",
    "        final_image = cv.rectangle(frame,(x,y),(x+w,y+h),255,3)\n",
    "        \n",
    "        cv.imshow('backProject',dst)\n",
    "        cv.imshow('final_image',final_image)\n",
    "    else:\n",
    "        break\n",
    "    if cv.waitKey(1) & 0xFF == ord('q'):\n",
    "        break\n",
    "\n",
    "\n",
    "cv.destroyAllWindows()\n",
    "for i in range (1,5):\n",
    "    cv.waitKey(1)"
   ]
  },
  {
   "cell_type": "markdown",
   "id": "2ae8c81b",
   "metadata": {},
   "source": [
    "<ul>\n",
    "    Issues:\n",
    "    <li>initial postion was hard-coded </li>\n",
    "    <li>window size isn't adaptive</li>\n",
    "</ul>    "
   ]
  },
  {
   "cell_type": "markdown",
   "id": "b1184f0b",
   "metadata": {},
   "source": [
    "## Camshift"
   ]
  },
  {
   "cell_type": "code",
   "execution_count": 8,
   "id": "60f3e8f3",
   "metadata": {},
   "outputs": [],
   "source": [
    "cap = cv.VideoCapture('/Users/jxxt/Desktop/Random/CV/moving_Traffic.mp4')\n",
    "\n",
    "ret, frame = cap.read()\n",
    "x, y, width, height = 2100,1300,300,200\n",
    "trackingWin = (x,y,width,height)\n",
    "region_of_int = frame[y:y+height,x:x+width]\n",
    "hsv_roi = cv.cvtColor(region_of_int,cv.COLOR_BGR2HSV)\n",
    "mask = cv.inRange(hsv_roi,np.array((0.,60.,32.)),np.array((180.,255.,255.)))\n",
    "roi_hist = cv.calcHist([hsv_roi],[0],mask,[180],[0,180])\n",
    "cv.normalize(roi_hist,roi_hist,0,255,cv.NORM_MINMAX)\n",
    "\n",
    "termination_Cri = (cv.TERM_CRITERIA_EPS | cv.TermCriteria_COUNT, 10, 1)\n",
    "\n",
    "while True:\n",
    "    ret, frame = cap.read()\n",
    "    if ret:\n",
    "        hsv = cv.cvtColor(frame,cv.COLOR_BGR2HSV)\n",
    "        dst = cv.calcBackProject([hsv],[0],roi_hist,[0,180],1)\n",
    "        ret, trackingWin = cv.CamShift(dst,trackingWin, termination_Cri)\n",
    "        \n",
    "        pts = cv.boxPoints(ret)\n",
    "        pts = np.int0(pts)\n",
    "        final_image = cv.polylines(frame,[pts],True,(0,255,0),2)\n",
    "        \n",
    "        #cv.imshow('backProject',dst)\n",
    "        cv.imshow('final_image',final_image)\n",
    "    else:\n",
    "        break\n",
    "    if cv.waitKey(1) & 0xFF == ord('q'):\n",
    "        break\n",
    "\n",
    "\n",
    "cv.destroyAllWindows()\n",
    "for i in range (1,5):\n",
    "    cv.waitKey(1)"
   ]
  },
  {
   "cell_type": "code",
   "execution_count": null,
   "id": "064d2108",
   "metadata": {},
   "outputs": [],
   "source": []
  }
 ],
 "metadata": {
  "kernelspec": {
   "display_name": "Python 3 (ipykernel)",
   "language": "python",
   "name": "python3"
  },
  "language_info": {
   "codemirror_mode": {
    "name": "ipython",
    "version": 3
   },
   "file_extension": ".py",
   "mimetype": "text/x-python",
   "name": "python",
   "nbconvert_exporter": "python",
   "pygments_lexer": "ipython3",
   "version": "3.9.5"
  },
  "toc": {
   "base_numbering": 1,
   "nav_menu": {},
   "number_sections": true,
   "sideBar": true,
   "skip_h1_title": false,
   "title_cell": "Table of Contents",
   "title_sidebar": "Contents",
   "toc_cell": false,
   "toc_position": {},
   "toc_section_display": true,
   "toc_window_display": false
  }
 },
 "nbformat": 4,
 "nbformat_minor": 5
}
